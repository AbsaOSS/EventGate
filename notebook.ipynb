{
 "cells": [
  {
   "cell_type": "code",
   "execution_count": null,
   "id": "e8e37945-f8c5-4769-bdde-226edeb8465f",
   "metadata": {},
   "outputs": [],
   "source": [
    "%load_ext autoreload\n",
    "%autoreload 2\n",
    "import event_gate_lambda"
   ]
  },
  {
   "cell_type": "code",
   "execution_count": null,
   "id": "67c10d73-8a23-41d6-9f20-7e23423e1c5e",
   "metadata": {},
   "outputs": [],
   "source": [
    "event_gate_lambda.lambda_handler({\n",
    "    \"httpMethod\": \"GET\",\n",
    "    \"resource\": \"/Token\"\n",
    "}, {})"
   ]
  },
  {
   "cell_type": "code",
   "execution_count": null,
   "id": "f0f3f6c4-7f6f-492b-82b5-f55ed8706a23",
   "metadata": {},
   "outputs": [],
   "source": [
    "event_gate_lambda.lambda_handler({\n",
    "    \"httpMethod\": \"GET\",\n",
    "    \"resource\": \"/Topics\"\n",
    "} {})"
   ]
  },
  {
   "cell_type": "code",
   "execution_count": null,
   "id": "639aeacb-4c73-48f1-b612-f56027765c38",
   "metadata": {},
   "outputs": [],
   "source": [
    "event_gate_lambda.lambda_handler({\n",
    "    \"httpMethod\": \"GET\",\n",
    "    \"resource\": \"/Topics/{topicName}\",\n",
    "    \"pathParameters\": {\"topicName\": \"RunTopic\"}\n",
    "}, {})"
   ]
  },
  {
   "cell_type": "code",
   "execution_count": null,
   "id": "5fce7b6c-1538-4cb2-987e-833e19cc8502",
   "metadata": {},
   "outputs": [],
   "source": [
    "event_gate_lambda.lambda_handler({\n",
    "    \"httpMethod\": \"POST\",\n",
    "    \"resource\": \"/Topics/{topicName}\",\n",
    "    \"pathParameters\": {\"topicName\": \"EdlaChangeTopic\"},\n",
    "    \"headers\": {\"bearer\": \"ToBeTokenHere\"},\n",
    "    \"body\": {\n",
    "        \"app_id_snow\": \"app-1234\",\n",
    "        \"data_definition_id\": \"data-def-5678\",\n",
    "        \"environment\": \"DEV\",\n",
    "        \"format\": \"JSON\",\n",
    "        \"guid\": \"550e8400-e29b-41d4-a716-446655440000\",\n",
    "        \"location\": \"s3://data-lake/customer_data\",\n",
    "        \"operation\": \"CREATE\",\n",
    "        \"schema_link\": \"https://schema-registry.company.com/schemas/data-def-5678\",\n",
    "        \"source_app\": \"DataIngestionApp\",\n",
    "        \"timestamp_event\": 1657896543210\n",
    "    }\n",
    "}, {})"
   ]
  }
 ],
 "metadata": {
  "kernelspec": {
   "display_name": "Python 3 (ipykernel)",
   "language": "python",
   "name": "python3"
  },
  "language_info": {
   "codemirror_mode": {
    "name": "ipython",
    "version": 3
   },
   "file_extension": ".py",
   "mimetype": "text/x-python",
   "name": "python",
   "nbconvert_exporter": "python",
   "pygments_lexer": "ipython3",
   "version": "3.12.2"
  }
 },
 "nbformat": 4,
 "nbformat_minor": 5
}
