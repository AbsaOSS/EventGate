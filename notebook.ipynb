{
 "cells": [
  {
   "cell_type": "code",
   "execution_count": null,
   "id": "e8e37945-f8c5-4769-bdde-226edeb8465f",
   "metadata": {},
   "outputs": [],
   "source": [
    "%load_ext autoreload\n",
    "%autoreload 2\n",
    "import src.event_gate_lambda"
   ]
  },
  {
   "cell_type": "code",
   "execution_count": null,
   "id": "df9dca66-984d-460b-acc6-3fe4ceb9ffc3",
   "metadata": {},
   "outputs": [],
   "source": [
    "jwtToken = \"eyJhb...\""
   ]
  },
  {
   "cell_type": "code",
   "execution_count": null,
   "id": "67c10d73-8a23-41d6-9f20-7e23423e1c5e",
   "metadata": {},
   "outputs": [],
   "source": [
    "src.event_gate_lambda.lambda_handler({\n",
    "    \"httpMethod\": \"GET\",\n",
    "    \"resource\": \"/token\"\n",
    "}, {})"
   ]
  },
  {
   "cell_type": "code",
   "execution_count": null,
   "id": "f0f3f6c4-7f6f-492b-82b5-f55ed8706a23",
   "metadata": {},
   "outputs": [],
   "source": [
    "src.event_gate_lambda.lambda_handler({\n",
    "    \"httpMethod\": \"GET\",\n",
    "    \"resource\": \"/topics\"\n",
    "}, {})"
   ]
  },
  {
   "cell_type": "code",
   "execution_count": null,
   "id": "639aeacb-4c73-48f1-b612-f56027765c38",
   "metadata": {},
   "outputs": [],
   "source": [
    "src.event_gate_lambda.lambda_handler({\n",
    "    \"httpMethod\": \"GET\",\n",
    "    \"resource\": \"/topics/{topic_name}\",\n",
    "    \"pathParameters\": {\"topic_name\": \"run.topic\"}\n",
    "}, {})"
   ]
  },
  {
   "cell_type": "code",
   "execution_count": null,
   "id": "5fce7b6c-1538-4cb2-987e-833e19cc8502",
   "metadata": {},
   "outputs": [],
   "source": [
    "import json\n",
    "src.event_gate_lambda.lambda_handler({\n",
    "    \"httpMethod\": \"POST\",\n",
    "    \"resource\": \"/topics/{topic_name}\",\n",
    "    \"pathParameters\": {\"topic_name\": \"edla.change.topic\"},\n",
    "    \"headers\": {\"bearer\": jwtToken},\n",
    "    \"body\": json.dumps({\n",
    "        \"app_id_snow\": \"app-1234\",\n",
    "        \"data_definition_id\": \"data-def-5678\",\n",
    "        \"environment\": \"DEV\",\n",
    "        \"format\": \"JSON\",\n",
    "        \"guid\": \"550e8400-e29b-41d4-a716-446655440000\",\n",
    "        \"location\": \"s3://data-lake/customer_data\",\n",
    "        \"operation\": \"CREATE\",\n",
    "        \"schema_link\": \"https://schema-registry.company.com/schemas/data-def-5678\",\n",
    "        \"source_app\": \"DataIngestionApp\",\n",
    "        \"timestamp_event\": 1657896543210\n",
    "    })\n",
    "}, {})"
   ]
  },
  {
   "cell_type": "code",
   "execution_count": null,
   "id": "be25af3b-f164-4ecf-82c8-d0657290bab1",
   "metadata": {},
   "outputs": [],
   "source": [
    "src.event_gate_lambda.lambda_handler({\n",
    "    \"httpMethod\": \"POST\",\n",
    "    \"resource\": \"/terminate\"\n",
    "}, {})"
   ]
  }
 ],
 "metadata": {
  "kernelspec": {
   "display_name": "Python 3 (ipykernel)",
   "language": "python",
   "name": "python3"
  },
  "language_info": {
   "codemirror_mode": {
    "name": "ipython",
    "version": 3
   },
   "file_extension": ".py",
   "mimetype": "text/x-python",
   "name": "python",
   "nbconvert_exporter": "python",
   "pygments_lexer": "ipython3",
   "version": "3.12.2"
  }
 },
 "nbformat": 4,
 "nbformat_minor": 5
}
