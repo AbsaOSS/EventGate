{
 "cells": [
  {
   "cell_type": "code",
   "execution_count": null,
   "id": "b0ddfccc-0a08-4c37-89c0-fa144ef516e3",
   "metadata": {},
   "outputs": [],
   "source": [
    "# Set postgres secret\n",
    "import os\n",
    "\n",
    "os.environ[\"POSTGRES_SECRET_NAME\"] = \"<redacted>\"\n",
    "os.environ[\"POSTGRES_SECRET_REGION\"] = \"<redacted>\""
   ]
  },
  {
   "cell_type": "code",
   "execution_count": null,
   "id": "e8e37945-f8c5-4769-bdde-226edeb8465f",
   "metadata": {},
   "outputs": [],
   "source": [
    "# Load lambda core\n",
    "# Jump out of the \"Scripts\" box for the lambda source\n",
    "import sys\n",
    "import os\n",
    "os.environ[\"LOG_LEVEL\"] = \"DEBUG\"\n",
    "parent_dir = os.path.abspath(os.path.join(os.getcwd(), os.pardir))\n",
    "sys.path.insert(0, parent_dir)\n",
    "if not os.path.exists('src'):\n",
    "    os.chdir('..')\n",
    "import src.event_gate_lambda"
   ]
  },
  {
   "cell_type": "code",
   "execution_count": null,
   "id": "df9dca66-984d-460b-acc6-3fe4ceb9ffc3",
   "metadata": {},
   "outputs": [],
   "source": [
    "# Set token for querying lambda\n",
    "jwtToken = \"eyJhb<redacted>\""
   ]
  },
  {
   "cell_type": "code",
   "execution_count": null,
   "id": "3ae218c5-8174-41bc-be5d-9487d68260c5",
   "metadata": {},
   "outputs": [],
   "source": [
    "# GET API\n",
    "src.event_gate_lambda.lambda_handler({\n",
    "    \"httpMethod\": \"GET\",\n",
    "    \"resource\": \"/api\"\n",
    "}, {})"
   ]
  },
  {
   "cell_type": "code",
   "execution_count": null,
   "id": "67c10d73-8a23-41d6-9f20-7e23423e1c5e",
   "metadata": {},
   "outputs": [],
   "source": [
    "# GET TOKEN => path to token source\n",
    "src.event_gate_lambda.lambda_handler({\n",
    "    \"httpMethod\": \"GET\",\n",
    "    \"resource\": \"/token\"\n",
    "}, {})"
   ]
  },
  {
   "cell_type": "code",
   "execution_count": null,
   "id": "f0f3f6c4-7f6f-492b-82b5-f55ed8706a23",
   "metadata": {},
   "outputs": [],
   "source": [
    "# GET TOPICS\n",
    "src.event_gate_lambda.lambda_handler({\n",
    "    \"httpMethod\": \"GET\",\n",
    "    \"resource\": \"/topics\"\n",
    "}, {})"
   ]
  },
  {
   "cell_type": "code",
   "execution_count": null,
   "id": "639aeacb-4c73-48f1-b612-f56027765c38",
   "metadata": {},
   "outputs": [],
   "source": [
    "# GET TOPIC SCHEMA\n",
    "src.event_gate_lambda.lambda_handler({\n",
    "    \"httpMethod\": \"GET\",\n",
    "    \"resource\": \"/topics/{topic_name}\",\n",
    "    \"pathParameters\": {\"topic_name\": \"public.cps.za.dlchange\"}\n",
    "}, {})"
   ]
  },
  {
   "cell_type": "code",
   "execution_count": null,
   "id": "5fce7b6c-1538-4cb2-987e-833e19cc8502",
   "metadata": {},
   "outputs": [],
   "source": [
    "# POST MESSAGE\n",
    "import json\n",
    "src.event_gate_lambda.lambda_handler({\n",
    "    \"httpMethod\": \"POST\",\n",
    "    \"resource\": \"/topics/{topic_name}\",\n",
    "    \"pathParameters\": {\"topic_name\": \"public.cps.za.dlchange\"},\n",
    "    \"headers\": {\"Authorization\": f\"Bearer {jwtToken}\"},\n",
    "    \"body\": json.dumps({\n",
    "        \"event_id\": \"JupyterEventId\",\n",
    "        \"tenant_id\": \"JupyterTenantId\",\n",
    "        \"source_app\": \"JupyterSrc\",\n",
    "        \"source_app_version\": \"v2025-05-20\",\n",
    "        \"environment\": \"JupyterEnv\",\n",
    "        \"timestamp_event\": 1729602770000,\n",
    "        \"catalog_id\": \"TestCatalog\",\n",
    "        \"operation\": \"delete\",\n",
    "        \"location\": \"UnitTest\",\n",
    "        \"format\": \"TestFormat\",\n",
    "        \"format_options\": {\"Foo\" : \"Bar\"}\n",
    "  })\n",
    "}, {})"
   ]
  },
  {
   "cell_type": "code",
   "execution_count": null,
   "id": "be25af3b-f164-4ecf-82c8-d0657290bab1",
   "metadata": {},
   "outputs": [],
   "source": [
    "# CYCLE LAMBDA ENVIRONMENT\n",
    "src.event_gate_lambda.lambda_handler({\n",
    "    \"httpMethod\": \"POST\",\n",
    "    \"resource\": \"/terminate\"\n",
    "}, {})"
   ]
  }
 ],
 "metadata": {
  "kernelspec": {
   "display_name": "Python 3 (ipykernel)",
   "language": "python",
   "name": "python3"
  },
  "language_info": {
   "codemirror_mode": {
    "name": "ipython",
    "version": 3
   },
   "file_extension": ".py",
   "mimetype": "text/x-python",
   "name": "python",
   "nbconvert_exporter": "python",
   "pygments_lexer": "ipython3",
   "version": "3.12.6"
  }
 },
 "nbformat": 4,
 "nbformat_minor": 5
}
